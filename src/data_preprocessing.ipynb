{
  "nbformat": 4,
  "nbformat_minor": 0,
  "metadata": {
    "colab": {
      "name": "data_preprocessing.ipynb",
      "provenance": [],
      "collapsed_sections": []
    },
    "kernelspec": {
      "name": "python3",
      "display_name": "Python 3"
    },
    "language_info": {
      "name": "python"
    }
  },
  "cells": [
    {
      "cell_type": "code",
      "metadata": {
        "colab": {
          "base_uri": "https://localhost:8080/"
        },
        "id": "66nAqL8plsNg",
        "outputId": "6c03bc7d-c31a-4171-f34f-0eedbe62d785"
      },
      "source": [
        "# Optional - used to mount drive if using google colab;\n",
        "from google.colab import drive\n",
        "drive.mount('/content/drive')"
      ],
      "execution_count": 2,
      "outputs": [
        {
          "output_type": "stream",
          "text": [
            "Mounted at /content/drive\n"
          ],
          "name": "stdout"
        }
      ]
    },
    {
      "cell_type": "code",
      "metadata": {
        "id": "-sLYZM-8koho"
      },
      "source": [
        "# ANN\n",
        "# Author: Robert Barbulescu\n",
        "\n",
        "# importing necessary packages \n",
        "import pandas as pd\n",
        "import matplotlib\n",
        "import matplotlib.pyplot as plt\n",
        "import seaborn as sns\n",
        "import numpy as np\n",
        "\n",
        "# used for better plots\n",
        "plt.style.use('ggplot')"
      ],
      "execution_count": 3,
      "outputs": []
    },
    {
      "cell_type": "code",
      "metadata": {
        "colab": {
          "base_uri": "https://localhost:8080/"
        },
        "id": "SljPc9QOkpZ_",
        "outputId": "7972284d-b2ad-464f-eb7b-a62477ea6b6a"
      },
      "source": [
        "# The features existing on the dataset \n",
        "# The features names were obtained from: http://kdd.ics.uci.edu/databases/kddcup99/kddcup.names\n",
        "features = [\"duration\",\"protocol_type\",\"service\",\"flag\",\"src_bytes\",\n",
        "    \"dst_bytes\",\"land\",\"wrong_fragment\",\"urgent\",\"hot\",\"num_failed_logins\",\n",
        "    \"logged_in\",\"num_compromised\",\"root_shell\",\"su_attempted\",\"num_root\",\n",
        "    \"num_file_creations\",\"num_shells\",\"num_access_files\",\"num_outbound_cmds\",\n",
        "    \"is_host_login\",\"is_guest_login\",\"count\",\"srv_count\",\"serror_rate\",\n",
        "    \"srv_serror_rate\",\"rerror_rate\",\"srv_rerror_rate\",\"same_srv_rate\",\n",
        "    \"diff_srv_rate\",\"srv_diff_host_rate\",\"dst_host_count\",\"dst_host_srv_count\",\n",
        "    \"dst_host_same_srv_rate\",\"dst_host_diff_srv_rate\",\"dst_host_same_src_port_rate\",\n",
        "    \"dst_host_srv_diff_host_rate\",\"dst_host_serror_rate\",\"dst_host_srv_serror_rate\",\n",
        "    \"dst_host_rerror_rate\",\"dst_host_srv_rerror_rate\",\"label\"]\n",
        "\n",
        "# Mounting and reaidng the csv file with the dataset\n",
        "# Also available using sklearn packgae: https://scikit-learn.org/stable/modules/generated/sklearn.datasets.fetch_kddcup99.html\n",
        "dataset = pd.read_csv('/content/drive/My Drive/Colab Notebooks/kddcup.data_10_percent_corrected', names = features, header=None)\n",
        "\n",
        "# visulaize first 5 rows\n",
        "dataset.head()\n",
        "\n",
        "# The number of samples and dimensions\n",
        "print('Data Points:',dataset.shape[0])\n",
        "print('Features:',dataset.shape[1])\n",
        "print(\"The initial dataset shape is:\", dataset.shape)\n",
        "print(\"=======================================================================\")"
      ],
      "execution_count": 4,
      "outputs": [
        {
          "output_type": "stream",
          "text": [
            "Data Points: 494021\n",
            "Features: 42\n",
            "The initial dataset shape is: (494021, 42)\n",
            "=======================================================================\n"
          ],
          "name": "stdout"
        }
      ]
    },
    {
      "cell_type": "code",
      "metadata": {
        "id": "xqnC5sRfktL1",
        "colab": {
          "base_uri": "https://localhost:8080/"
        },
        "outputId": "8234d259-5de2-48c8-f1f5-51836116c419"
      },
      "source": [
        "# Initial dataset values \n",
        "# Checking for the data type\n",
        "print(\"The dataset contains the following:\")\n",
        "print(\"=======================================================================\")\n",
        "dataset.info()\n",
        "print(\"=======================================================================\")"
      ],
      "execution_count": 5,
      "outputs": [
        {
          "output_type": "stream",
          "text": [
            "The dataset contains the following:\n",
            "=======================================================================\n",
            "<class 'pandas.core.frame.DataFrame'>\n",
            "RangeIndex: 494021 entries, 0 to 494020\n",
            "Data columns (total 42 columns):\n",
            " #   Column                       Non-Null Count   Dtype  \n",
            "---  ------                       --------------   -----  \n",
            " 0   duration                     494021 non-null  int64  \n",
            " 1   protocol_type                494021 non-null  object \n",
            " 2   service                      494021 non-null  object \n",
            " 3   flag                         494021 non-null  object \n",
            " 4   src_bytes                    494021 non-null  int64  \n",
            " 5   dst_bytes                    494021 non-null  int64  \n",
            " 6   land                         494021 non-null  int64  \n",
            " 7   wrong_fragment               494021 non-null  int64  \n",
            " 8   urgent                       494021 non-null  int64  \n",
            " 9   hot                          494021 non-null  int64  \n",
            " 10  num_failed_logins            494021 non-null  int64  \n",
            " 11  logged_in                    494021 non-null  int64  \n",
            " 12  num_compromised              494021 non-null  int64  \n",
            " 13  root_shell                   494021 non-null  int64  \n",
            " 14  su_attempted                 494021 non-null  int64  \n",
            " 15  num_root                     494021 non-null  int64  \n",
            " 16  num_file_creations           494021 non-null  int64  \n",
            " 17  num_shells                   494021 non-null  int64  \n",
            " 18  num_access_files             494021 non-null  int64  \n",
            " 19  num_outbound_cmds            494021 non-null  int64  \n",
            " 20  is_host_login                494021 non-null  int64  \n",
            " 21  is_guest_login               494021 non-null  int64  \n",
            " 22  count                        494021 non-null  int64  \n",
            " 23  srv_count                    494021 non-null  int64  \n",
            " 24  serror_rate                  494021 non-null  float64\n",
            " 25  srv_serror_rate              494021 non-null  float64\n",
            " 26  rerror_rate                  494021 non-null  float64\n",
            " 27  srv_rerror_rate              494021 non-null  float64\n",
            " 28  same_srv_rate                494021 non-null  float64\n",
            " 29  diff_srv_rate                494021 non-null  float64\n",
            " 30  srv_diff_host_rate           494021 non-null  float64\n",
            " 31  dst_host_count               494021 non-null  int64  \n",
            " 32  dst_host_srv_count           494021 non-null  int64  \n",
            " 33  dst_host_same_srv_rate       494021 non-null  float64\n",
            " 34  dst_host_diff_srv_rate       494021 non-null  float64\n",
            " 35  dst_host_same_src_port_rate  494021 non-null  float64\n",
            " 36  dst_host_srv_diff_host_rate  494021 non-null  float64\n",
            " 37  dst_host_serror_rate         494021 non-null  float64\n",
            " 38  dst_host_srv_serror_rate     494021 non-null  float64\n",
            " 39  dst_host_rerror_rate         494021 non-null  float64\n",
            " 40  dst_host_srv_rerror_rate     494021 non-null  float64\n",
            " 41  label                        494021 non-null  object \n",
            "dtypes: float64(15), int64(23), object(4)\n",
            "memory usage: 158.3+ MB\n",
            "=======================================================================\n"
          ],
          "name": "stdout"
        }
      ]
    },
    {
      "cell_type": "code",
      "metadata": {
        "id": "VrLbjdivkvx0",
        "colab": {
          "base_uri": "https://localhost:8080/"
        },
        "outputId": "dcbd1a98-de51-46c0-dfc1-20ed77852262"
      },
      "source": [
        "# remove any existing duplicates\n",
        "dataset.drop_duplicates(subset=None, keep='first', inplace=True)\n",
        "print(\"Duplicates succesfully dropped.\")\n",
        "print(\"Dataset shape is:\", dataset.shape)"
      ],
      "execution_count": 6,
      "outputs": [
        {
          "output_type": "stream",
          "text": [
            "Duplicates succesfully dropped.\n",
            "Dataset shape is: (145586, 42)\n"
          ],
          "name": "stdout"
        }
      ]
    },
    {
      "cell_type": "code",
      "metadata": {
        "id": "gbmRGd3Xk0Oh",
        "colab": {
          "base_uri": "https://localhost:8080/"
        },
        "outputId": "74c0e521-e53b-46d7-801e-42e2bc8ae327"
      },
      "source": [
        "# Looking for any NULL values\n",
        "print('Null values existing: ',len(dataset[dataset.isnull().any(1)]))\n",
        "print(\"=======================================================================\")"
      ],
      "execution_count": 7,
      "outputs": [
        {
          "output_type": "stream",
          "text": [
            "Null values existing:  0\n",
            "=======================================================================\n"
          ],
          "name": "stdout"
        }
      ]
    },
    {
      "cell_type": "code",
      "metadata": {
        "id": "T4O0LBimXy_0"
      },
      "source": [
        "# remove redundant and correlated features \n",
        "dataset['num_outbound_cmds'].value_counts()\n",
        "dataset.drop('num_outbound_cmds', axis=1, inplace=True)\n",
        "dataset['is_host_login'].value_counts()\n",
        "dataset.drop('is_host_login', axis=1, inplace=True)\n",
        "dataset['dst_host_serror_rate'].value_counts()\n",
        "dataset.drop('dst_host_serror_rate', axis=1, inplace=True)\n",
        "dataset['dst_host_srv_serror_rate'].value_counts()\n",
        "dataset.drop('dst_host_srv_serror_rate', axis=1, inplace=True)\n",
        "dataset['dst_host_rerror_rate'].value_counts()\n",
        "dataset.drop('dst_host_rerror_rate', axis=1, inplace=True)\n",
        "dataset['dst_host_srv_rerror_rate'].value_counts()\n",
        "dataset.drop('dst_host_srv_rerror_rate', axis=1, inplace=True)"
      ],
      "execution_count": 13,
      "outputs": []
    },
    {
      "cell_type": "code",
      "metadata": {
        "id": "9c1JFbGwk35h",
        "colab": {
          "base_uri": "https://localhost:8080/"
        },
        "outputId": "ee24a9c0-b1dc-4412-fd16-fc13ab766113"
      },
      "source": [
        "# Checking for the data type after duplicates were dropped\n",
        "print(\"Dataset after removing duplicates:\")\n",
        "print(\"=======================================================================\")\n",
        "dataset.info()\n",
        "print(\"=======================================================================\")"
      ],
      "execution_count": 14,
      "outputs": [
        {
          "output_type": "stream",
          "text": [
            "Dataset after removing duplicates:\n",
            "=======================================================================\n",
            "<class 'pandas.core.frame.DataFrame'>\n",
            "Int64Index: 145586 entries, 0 to 494020\n",
            "Data columns (total 36 columns):\n",
            " #   Column                       Non-Null Count   Dtype  \n",
            "---  ------                       --------------   -----  \n",
            " 0   duration                     145586 non-null  int64  \n",
            " 1   protocol_type                145586 non-null  object \n",
            " 2   service                      145586 non-null  object \n",
            " 3   flag                         145586 non-null  object \n",
            " 4   src_bytes                    145586 non-null  int64  \n",
            " 5   dst_bytes                    145586 non-null  int64  \n",
            " 6   land                         145586 non-null  int64  \n",
            " 7   wrong_fragment               145586 non-null  int64  \n",
            " 8   urgent                       145586 non-null  int64  \n",
            " 9   hot                          145586 non-null  int64  \n",
            " 10  num_failed_logins            145586 non-null  int64  \n",
            " 11  logged_in                    145586 non-null  int64  \n",
            " 12  num_compromised              145586 non-null  int64  \n",
            " 13  root_shell                   145586 non-null  int64  \n",
            " 14  su_attempted                 145586 non-null  int64  \n",
            " 15  num_root                     145586 non-null  int64  \n",
            " 16  num_file_creations           145586 non-null  int64  \n",
            " 17  num_shells                   145586 non-null  int64  \n",
            " 18  num_access_files             145586 non-null  int64  \n",
            " 19  is_guest_login               145586 non-null  int64  \n",
            " 20  count                        145586 non-null  int64  \n",
            " 21  srv_count                    145586 non-null  int64  \n",
            " 22  serror_rate                  145586 non-null  float64\n",
            " 23  srv_serror_rate              145586 non-null  float64\n",
            " 24  rerror_rate                  145586 non-null  float64\n",
            " 25  srv_rerror_rate              145586 non-null  float64\n",
            " 26  same_srv_rate                145586 non-null  float64\n",
            " 27  diff_srv_rate                145586 non-null  float64\n",
            " 28  srv_diff_host_rate           145586 non-null  float64\n",
            " 29  dst_host_count               145586 non-null  int64  \n",
            " 30  dst_host_srv_count           145586 non-null  int64  \n",
            " 31  dst_host_same_srv_rate       145586 non-null  float64\n",
            " 32  dst_host_diff_srv_rate       145586 non-null  float64\n",
            " 33  dst_host_same_src_port_rate  145586 non-null  float64\n",
            " 34  dst_host_srv_diff_host_rate  145586 non-null  float64\n",
            " 35  label                        145586 non-null  object \n",
            "dtypes: float64(11), int64(21), object(4)\n",
            "memory usage: 41.1+ MB\n",
            "=======================================================================\n"
          ],
          "name": "stdout"
        }
      ]
    },
    {
      "cell_type": "code",
      "metadata": {
        "id": "rbqULdPpk8u8",
        "colab": {
          "base_uri": "https://localhost:8080/",
          "height": 1000
        },
        "outputId": "a004098c-2c43-405f-a16e-88c1046616c5"
      },
      "source": [
        "# Organizing data\n",
        "print(\"Sorting and grouping attack types by label:\")\n",
        "print(\"=======================================================================\")\n",
        "print(dataset.groupby('label')['label'].count())\n",
        "print(\"=======================================================================\")\n",
        "# Displaying and plotting the different categories in class label\n",
        "plt.figure(figsize=(10,7))\n",
        "params = {'axes.titlesize':'18',\n",
        "          'xtick.labelsize':'14',\n",
        "          'ytick.labelsize':'14'}\n",
        "matplotlib.rcParams.update(params)\n",
        "class_distribution = dataset['label'].value_counts()\n",
        "class_distribution.plot(kind='barh')\n",
        "plt.xlabel('Class')\n",
        "plt.ylabel('Data points by their class')\n",
        "plt.title('Distribution of categories in train data')\n",
        "plt.grid()\n",
        "plt.show()\n",
        "# https://docs.scipy.org/doc/numpy/reference/generated/numpy.argsort.html\n",
        "sorted_yi = np.argsort(-class_distribution.values) # this provides the classes in decreasing order\n",
        "for i in sorted_yi:\n",
        "    print('Number of data points in class', i+1, ':',class_distribution.values[i], '(', np.round((class_distribution.values[i]/dataset.shape[0]*100), 3), '%)')\n"
      ],
      "execution_count": 15,
      "outputs": [
        {
          "output_type": "stream",
          "text": [
            "Sorting and grouping attack types by label:\n",
            "=======================================================================\n",
            "label\n",
            "back.                 968\n",
            "buffer_overflow.       30\n",
            "ftp_write.              8\n",
            "guess_passwd.          53\n",
            "imap.                  12\n",
            "ipsweep.              651\n",
            "land.                  19\n",
            "loadmodule.             9\n",
            "multihop.               7\n",
            "neptune.            51820\n",
            "nmap.                 158\n",
            "normal.             87832\n",
            "perl.                   3\n",
            "phf.                    4\n",
            "pod.                  206\n",
            "portsweep.            416\n",
            "rootkit.               10\n",
            "satan.                906\n",
            "smurf.                641\n",
            "spy.                    2\n",
            "teardrop.             918\n",
            "warezclient.          893\n",
            "warezmaster.           20\n",
            "Name: label, dtype: int64\n",
            "=======================================================================\n"
          ],
          "name": "stdout"
        },
        {
          "output_type": "display_data",
          "data": {
            "image/png": "[encoded data removed]",
            "text/plain": [
              "<Figure size 720x504 with 1 Axes>"
            ]
          },
          "metadata": {
            "tags": []
          }
        },
        {
          "output_type": "stream",
          "text": [
            "Number of data points in class 1 : 87832 ( 60.33 %)\n",
            "Number of data points in class 2 : 51820 ( 35.594 %)\n",
            "Number of data points in class 3 : 968 ( 0.665 %)\n",
            "Number of data points in class 4 : 918 ( 0.631 %)\n",
            "Number of data points in class 5 : 906 ( 0.622 %)\n",
            "Number of data points in class 6 : 893 ( 0.613 %)\n",
            "Number of data points in class 7 : 651 ( 0.447 %)\n",
            "Number of data points in class 8 : 641 ( 0.44 %)\n",
            "Number of data points in class 9 : 416 ( 0.286 %)\n",
            "Number of data points in class 10 : 206 ( 0.141 %)\n",
            "Number of data points in class 11 : 158 ( 0.109 %)\n",
            "Number of data points in class 12 : 53 ( 0.036 %)\n",
            "Number of data points in class 13 : 30 ( 0.021 %)\n",
            "Number of data points in class 14 : 20 ( 0.014 %)\n",
            "Number of data points in class 15 : 19 ( 0.013 %)\n",
            "Number of data points in class 16 : 12 ( 0.008 %)\n",
            "Number of data points in class 17 : 10 ( 0.007 %)\n",
            "Number of data points in class 18 : 9 ( 0.006 %)\n",
            "Number of data points in class 19 : 8 ( 0.005 %)\n",
            "Number of data points in class 20 : 7 ( 0.005 %)\n",
            "Number of data points in class 21 : 4 ( 0.003 %)\n",
            "Number of data points in class 22 : 3 ( 0.002 %)\n",
            "Number of data points in class 23 : 2 ( 0.001 %)\n"
          ],
          "name": "stdout"
        }
      ]
    },
    {
      "cell_type": "code",
      "metadata": {
        "colab": {
          "base_uri": "https://localhost:8080/"
        },
        "id": "J_ScxxH2UWZl",
        "outputId": "d19f432c-f054-441a-b588-7b18f8819ccf"
      },
      "source": [
        "dataset.groupby(['protocol_type'])['label'].value_counts()"
      ],
      "execution_count": 16,
      "outputs": [
        {
          "output_type": "execute_result",
          "data": {
            "text/plain": [
              "protocol_type  label           \n",
              "icmp           normal.               892\n",
              "               smurf.                641\n",
              "               ipsweep.              560\n",
              "               pod.                  206\n",
              "               nmap.                 103\n",
              "               satan.                  3\n",
              "               portsweep.              1\n",
              "tcp            normal.             75789\n",
              "               neptune.            51820\n",
              "               back.                 968\n",
              "               warezclient.          893\n",
              "               satan.                733\n",
              "               portsweep.            415\n",
              "               ipsweep.               91\n",
              "               guess_passwd.          53\n",
              "               buffer_overflow.       30\n",
              "               nmap.                  30\n",
              "               warezmaster.           20\n",
              "               land.                  19\n",
              "               imap.                  12\n",
              "               loadmodule.             9\n",
              "               ftp_write.              8\n",
              "               multihop.               7\n",
              "               rootkit.                7\n",
              "               phf.                    4\n",
              "               perl.                   3\n",
              "               spy.                    2\n",
              "udp            normal.             11151\n",
              "               teardrop.             918\n",
              "               satan.                170\n",
              "               nmap.                  25\n",
              "               rootkit.                3\n",
              "Name: label, dtype: int64"
            ]
          },
          "metadata": {
            "tags": []
          },
          "execution_count": 16
        }
      ]
    }
  ]
}